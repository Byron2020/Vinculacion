{
 "cells": [
  {
   "cell_type": "code",
   "execution_count": null,
   "id": "b04c5136",
   "metadata": {},
   "outputs": [],
   "source": []
  },
  {
   "cell_type": "code",
   "execution_count": 1,
   "id": "25b80b37",
   "metadata": {},
   "outputs": [
    {
     "ename": "SyntaxError",
     "evalue": "invalid syntax (1414974070.py, line 20)",
     "output_type": "error",
     "traceback": [
      "\u001b[1;36m  Cell \u001b[1;32mIn[1], line 20\u001b[1;36m\u001b[0m\n\u001b[1;33m    data$tipo_discapacidad <- as.factor(data$tipo_discapacidad)\u001b[0m\n\u001b[1;37m        ^\u001b[0m\n\u001b[1;31mSyntaxError\u001b[0m\u001b[1;31m:\u001b[0m invalid syntax\n"
     ]
    }
   ],
   "source": [
    "# Cargar las librerías necesarias\n",
    "install.packages(\"caret\")\n",
    "install.packages(\"readxl\")\n",
    "install.packages(\"tidyverse\")\n",
    "library(caret)\n",
    "library(readxl)\n",
    "library(tidyverse)\n",
    "\n",
    "# Cargar el dataset\n",
    "ruta_excel <- \"DatosJUMAIN.xlsx\"\n",
    "data <- read_excel(ruta_excel, sheet = 1, na = c(\"N/A\"))\n",
    "\n",
    "# Manejar valores nulos\n",
    "data <- na.omit(data)\n",
    "\n",
    "# Exploración básica\n",
    "summary(data)\n",
    "\n",
    "# Convertir tipo de discapacidad, grado escolar y nombre de la escuela a factores si no lo están\n",
    "data$tipo_discapacidad <- as.factor(data$tipo_discapacidad)\n",
    "data$grado_escolar <- as.factor(data$grado_escolar)\n",
    "data$nombre_escuela <- as.factor(data$nombre_escuela)\n",
    "\n",
    "# Entrenar un modelo de regresión lineal\n",
    "model <- train(porcentaje_discapacidad ~ grado_escolar + tipo_discapacidad + nombre_escuela, data = data, method = \"lm\")\n",
    "\n",
    "# Predicción en el conjunto de prueba\n",
    "predictions <- predict(model, newdata = data)\n",
    "predictions\n",
    "\n",
    "# Evaluación del modelo\n",
    "postResample(predictions, data$porcentaje_discapacidad)"
   ]
  },
  {
   "cell_type": "code",
   "execution_count": 2,
   "id": "5e19a504",
   "metadata": {},
   "outputs": [
    {
     "name": "stdout",
     "output_type": "stream",
     "text": [
      "Mean Squared Error: 0.03179434803001989\n",
      "R^2 Score: 0.03315997012599681\n"
     ]
    }
   ],
   "source": [
    "# Cargar las librerías necesarias\n",
    "import pandas as pd\n",
    "import numpy as np\n",
    "from sklearn.model_selection import train_test_split\n",
    "from sklearn.linear_model import LinearRegression\n",
    "from sklearn.metrics import mean_squared_error, r2_score\n",
    "\n",
    "# Cargar el dataset\n",
    "ruta_excel = \"DatosJUMAIN.xlsx\"\n",
    "data = pd.read_excel(ruta_excel, sheet_name=0)\n",
    "\n",
    "# Manejar valores nulos\n",
    "data = data.dropna()\n",
    "\n",
    "# Convertir tipo de discapacidad, grado escolar y nombre de la escuela a categorías si no lo están\n",
    "data['tipo_discapacidad'] = data['tipo_discapacidad'].astype('category')\n",
    "data['grado_escolar'] = data['grado_escolar'].astype('category')\n",
    "data['nombre_escuela'] = data['nombre_escuela'].astype('category')\n",
    "\n",
    "# Convertir las categorías a números\n",
    "data['tipo_discapacidad'] = data['tipo_discapacidad'].cat.codes\n",
    "data['grado_escolar'] = data['grado_escolar'].cat.codes\n",
    "data['nombre_escuela'] = data['nombre_escuela'].cat.codes\n",
    "\n",
    "# Separar variables predictoras y variable objetivo\n",
    "X = data[['grado_escolar', 'tipo_discapacidad', 'nombre_escuela']]\n",
    "y = data['porcentaje_discapacidad']\n",
    "\n",
    "# Dividir el conjunto de datos en entrenamiento y prueba\n",
    "X_train, X_test, y_train, y_test = train_test_split(X, y, test_size=0.2, random_state=123)\n",
    "\n",
    "# Entrenar el modelo de regresión lineal\n",
    "model = LinearRegression()\n",
    "model.fit(X_train, y_train)\n",
    "\n",
    "# Predicción en el conjunto de prueba\n",
    "predictions = model.predict(X_test)\n",
    "\n",
    "# Evaluación del modelo\n",
    "mse = mean_squared_error(y_test, predictions)\n",
    "r2 = r2_score(y_test, predictions)\n",
    "\n",
    "print(f'Mean Squared Error: {mse}')\n",
    "print(f'R^2 Score: {r2}')"
   ]
  },
  {
   "cell_type": "code",
   "execution_count": null,
   "id": "e11370f4",
   "metadata": {},
   "outputs": [],
   "source": []
  }
 ],
 "metadata": {
  "kernelspec": {
   "display_name": "Python 3 (ipykernel)",
   "language": "python",
   "name": "python3"
  },
  "language_info": {
   "codemirror_mode": {
    "name": "ipython",
    "version": 3
   },
   "file_extension": ".py",
   "mimetype": "text/x-python",
   "name": "python",
   "nbconvert_exporter": "python",
   "pygments_lexer": "ipython3",
   "version": "3.12.3"
  },
  "varInspector": {
   "cols": {
    "lenName": 16,
    "lenType": 16,
    "lenVar": 40
   },
   "kernels_config": {
    "python": {
     "delete_cmd_postfix": "",
     "delete_cmd_prefix": "del ",
     "library": "var_list.py",
     "varRefreshCmd": "print(var_dic_list())"
    },
    "r": {
     "delete_cmd_postfix": ") ",
     "delete_cmd_prefix": "rm(",
     "library": "var_list.r",
     "varRefreshCmd": "cat(var_dic_list()) "
    }
   },
   "types_to_exclude": [
    "module",
    "function",
    "builtin_function_or_method",
    "instance",
    "_Feature"
   ],
   "window_display": false
  }
 },
 "nbformat": 4,
 "nbformat_minor": 5
}
